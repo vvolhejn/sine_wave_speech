{
 "cells": [
  {
   "cell_type": "code",
   "execution_count": null,
   "metadata": {},
   "outputs": [],
   "source": [
    "import plotly.express as px\n",
    "import json\n",
    "import pandas as pd\n",
    "import numpy as np"
   ]
  },
  {
   "cell_type": "code",
   "execution_count": null,
   "metadata": {},
   "outputs": [],
   "source": [
    "# Generate the data using _createQuantizationPlotData(), copying from console output\n",
    "with open(\"quantization_plot_data.json\") as f:\n",
    "    data = json.load(f)"
   ]
  },
  {
   "cell_type": "code",
   "execution_count": null,
   "metadata": {},
   "outputs": [],
   "source": [
    "df = pd.DataFrame(\n",
    "    [(d[\"strength\"], v, i) for d in data for i, v in enumerate(d[\"values\"])],\n",
    "    columns=[\"strength\", \"value\", \"position\"],\n",
    ")\n",
    "df"
   ]
  },
  {
   "cell_type": "code",
   "execution_count": null,
   "metadata": {},
   "outputs": [],
   "source": [
    "import librosa\n",
    "\n",
    "midi_notes = list(range(47, 61))\n",
    "freqs = librosa.midi_to_hz(midi_notes)\n",
    "notes = librosa.midi_to_note(midi_notes)\n",
    "\n",
    "fig = px.line(\n",
    "    df.loc[(freqs[3] <= df[\"value\"]) & (df[\"value\"] <= freqs[8])].astype(\n",
    "        {\"position\": np.float32}\n",
    "    ),\n",
    "    x=\"strength\",\n",
    "    y=\"value\",\n",
    "    color=\"position\",\n",
    "    log_y=True,\n",
    "    width=800,\n",
    "    height=600,\n",
    ")\n",
    "\n",
    "fig.update_layout(\n",
    "    xaxis=dict(\n",
    "        tickmode=\"array\",\n",
    "        tickvals=[0, 1, 2, 3],\n",
    "        ticktext=[\"Microtonal\", \"Chromatic\", \"Diatonic\", \"Pentatonic\"],\n",
    "        title=\"Slider position\",\n",
    "    ),\n",
    "    yaxis=dict(\n",
    "        tickmode=\"array\",\n",
    "        tickvals=freqs,\n",
    "        ticktext=notes,\n",
    "        tickangle=0,\n",
    "        title=\"Frequency (Hz) / Musical Note\",\n",
    "    ),\n",
    "    # disable legend\n",
    "    showlegend=False,\n",
    ")\n",
    "\n",
    "fig.write_image(\"/Users/vaclav/prog/vvolhejn.github.io/assets/images/sine-wave-speech/quantization_plot.svg\")"
   ]
  },
  {
   "cell_type": "code",
   "execution_count": null,
   "metadata": {},
   "outputs": [],
   "source": [
    "freqs"
   ]
  },
  {
   "cell_type": "code",
   "execution_count": null,
   "metadata": {},
   "outputs": [],
   "source": []
  },
  {
   "cell_type": "code",
   "execution_count": null,
   "metadata": {},
   "outputs": [],
   "source": []
  }
 ],
 "metadata": {
  "kernelspec": {
   "display_name": "sine_wave_speech",
   "language": "python",
   "name": "python3"
  },
  "language_info": {
   "codemirror_mode": {
    "name": "ipython",
    "version": 3
   },
   "file_extension": ".py",
   "mimetype": "text/x-python",
   "name": "python",
   "nbconvert_exporter": "python",
   "pygments_lexer": "ipython3",
   "version": "3.10.11"
  }
 },
 "nbformat": 4,
 "nbformat_minor": 2
}
