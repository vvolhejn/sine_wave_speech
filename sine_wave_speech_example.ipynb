{
 "cells": [
  {
   "cell_type": "code",
   "execution_count": null,
   "metadata": {},
   "outputs": [],
   "source": [
    "# This notebook magic automatically reloads the sine_wave_speech module on edit\n",
    "%load_ext autoreload\n",
    "%autoreload 2\n",
    "\n",
    "import librosa\n",
    "import librosa.display\n",
    "import numpy as np\n",
    "import matplotlib.pyplot as plt\n",
    "import IPython.display\n",
    "\n",
    "import sine_wave_speech.synthesis"
   ]
  },
  {
   "cell_type": "code",
   "execution_count": null,
   "metadata": {},
   "outputs": [],
   "source": [
    "SAMPLE_RATE = 8000\n",
    "\n",
    "def play(audio, sr=SAMPLE_RATE):\n",
    "    IPython.display.display(IPython.display.Audio(audio, rate=sr))\n",
    "\n",
    "def spectrogram(audio, n_fft=512, sr=SAMPLE_RATE):\n",
    "    S = librosa.stft(audio, n_fft=n_fft)\n",
    "    S_db = librosa.amplitude_to_db(np.abs(S), ref=np.max)\n",
    "    librosa.display.specshow(S_db, y_axis=\"linear\", sr=sr, n_fft=n_fft)"
   ]
  },
  {
   "cell_type": "code",
   "execution_count": null,
   "metadata": {},
   "outputs": [],
   "source": [
    "audio, _ = librosa.load(\"./data/sentence.wav\", sr=SAMPLE_RATE)"
   ]
  },
  {
   "cell_type": "markdown",
   "metadata": {},
   "source": [
    "### Plot and play the original audio"
   ]
  },
  {
   "cell_type": "code",
   "execution_count": null,
   "metadata": {},
   "outputs": [],
   "source": [
    "spectrogram(audio)"
   ]
  },
  {
   "cell_type": "code",
   "execution_count": null,
   "metadata": {},
   "outputs": [],
   "source": [
    "play(audio)"
   ]
  },
  {
   "cell_type": "markdown",
   "metadata": {},
   "source": [
    "### Convert to sine wave speech"
   ]
  },
  {
   "cell_type": "code",
   "execution_count": null,
   "metadata": {},
   "outputs": [],
   "source": [
    "resynthesized = sine_wave_speech.synthesis.to_sine_wave_speech(audio, n_waves=4)"
   ]
  },
  {
   "cell_type": "markdown",
   "metadata": {},
   "source": [
    "### Plot and play the resynthesized audio\n",
    "As you can tell from the spectrogram, the resynthesized audio consists of four sine waves:"
   ]
  },
  {
   "cell_type": "code",
   "execution_count": null,
   "metadata": {},
   "outputs": [],
   "source": [
    "spectrogram(resynthesized)"
   ]
  },
  {
   "cell_type": "code",
   "execution_count": null,
   "metadata": {},
   "outputs": [],
   "source": [
    "play(resynthesized)"
   ]
  },
  {
   "cell_type": "markdown",
   "metadata": {},
   "source": [
    "### Detailed control\n",
    "\n",
    "Instead of `to_sine_wave_speech()`, you can also go through the individual steps:"
   ]
  },
  {
   "cell_type": "code",
   "execution_count": null,
   "metadata": {},
   "outputs": [],
   "source": [
    "from sine_wave_speech.lpc import fit_lpc, lpc_coefficients_to_frequencies\n",
    "\n",
    "n_waves = 4\n",
    "lpc_coefficients, gain, residual = fit_lpc(audio, p=n_waves * 2)\n",
    "\n",
    "frequencies, magnitudes = lpc_coefficients_to_frequencies(lpc_coefficients, gain)"
   ]
  },
  {
   "cell_type": "code",
   "execution_count": null,
   "metadata": {},
   "outputs": [],
   "source": [
    "# The frequencies are in radians/sample, so convert to Hz for the plot.\n",
    "frequencies_hz = frequencies * SAMPLE_RATE / (2 * np.pi)\n",
    "plt.plot(frequencies_hz[:100])\n",
    "\n",
    "spectrogram(audio[128:100 * 128], n_fft=512)"
   ]
  },
  {
   "cell_type": "code",
   "execution_count": null,
   "metadata": {},
   "outputs": [],
   "source": [
    "import scipy\n",
    "\n",
    "# The synthesize() function also allows you to replace the sine wave\n",
    "# with something more funky, like a sawtooth wave.\n",
    "resynthesized = sine_wave_speech.synthesis.synthesize(\n",
    "    frequencies, magnitudes, wave_fn=lambda x: scipy.signal.sawtooth(x, width=1)\n",
    ")\n",
    "\n",
    "play(resynthesized, sr=SAMPLE_RATE)"
   ]
  },
  {
   "cell_type": "code",
   "execution_count": null,
   "metadata": {},
   "outputs": [],
   "source": []
  }
 ],
 "metadata": {
  "kernelspec": {
   "display_name": "Python 3 (ipykernel)",
   "language": "python",
   "name": "python3"
  },
  "language_info": {
   "codemirror_mode": {
    "name": "ipython",
    "version": 3
   },
   "file_extension": ".py",
   "mimetype": "text/x-python",
   "name": "python",
   "nbconvert_exporter": "python",
   "pygments_lexer": "ipython3",
   "version": "3.9.13"
  },
  "vscode": {
   "interpreter": {
    "hash": "f913edc96b4d7f270e90fead5d547ef2a873a2e79b92d94ed50126310cb48dfd"
   }
  }
 },
 "nbformat": 4,
 "nbformat_minor": 2
}
