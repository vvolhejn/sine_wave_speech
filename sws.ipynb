{
 "cells": [
  {
   "cell_type": "code",
   "execution_count": null,
   "metadata": {},
   "outputs": [],
   "source": [
    "%load_ext autoreload\n",
    "%autoreload 2\n",
    "\n",
    "import librosa\n",
    "import librosa.display\n",
    "import numpy as np\n",
    "import matplotlib.pyplot as plt\n",
    "import IPython.display\n",
    "\n",
    "import sine_wave_speech.synthesis"
   ]
  },
  {
   "cell_type": "code",
   "execution_count": null,
   "metadata": {},
   "outputs": [],
   "source": [
    "audio, _ = librosa.load(\"./data/sentence.wav\", sr=8000)"
   ]
  },
  {
   "cell_type": "code",
   "execution_count": null,
   "metadata": {},
   "outputs": [],
   "source": [
    "def play(audio, sr=8000):\n",
    "    IPython.display.display(IPython.display.Audio(audio, rate=sr))\n",
    "\n",
    "def specplot(audio, n_fft=512, sr=8000):\n",
    "    S = librosa.stft(audio, n_fft=n_fft)\n",
    "    S_db = librosa.amplitude_to_db(np.abs(S), ref=np.max)\n",
    "    librosa.display.specshow(S_db, y_axis=\"linear\", sr=sr, n_fft=n_fft)"
   ]
  },
  {
   "cell_type": "code",
   "execution_count": null,
   "metadata": {},
   "outputs": [],
   "source": [
    "specplot(audio)"
   ]
  },
  {
   "cell_type": "code",
   "execution_count": null,
   "metadata": {},
   "outputs": [],
   "source": [
    "play(audio)"
   ]
  },
  {
   "cell_type": "code",
   "execution_count": null,
   "metadata": {},
   "outputs": [],
   "source": [
    "from sine_wave_speech.lpc import fit_lpc, lpc_coefficients_to_frequencies\n",
    "\n",
    "lpc_coefficients, gain, residual = fit_lpc(audio, p=8)\n",
    "\n",
    "frequencies, magnitudes = lpc_coefficients_to_frequencies(lpc_coefficients, gain)\n",
    "# Convert to Hz\n",
    "frequencies = frequencies * 8000 / (2 * np.pi)"
   ]
  },
  {
   "cell_type": "code",
   "execution_count": null,
   "metadata": {},
   "outputs": [],
   "source": [
    "plt.plot(frequencies[:100])\n",
    "specplot(audio[128:100 * 128], n_fft=512)"
   ]
  },
  {
   "cell_type": "code",
   "execution_count": null,
   "metadata": {},
   "outputs": [],
   "source": [
    "resynthesized = sine_wave_speech.synthesis.synthesize(\n",
    "    frequencies, magnitudes, sr=8000, # wave_fn=lambda x: scipy.signal.sawtooth(x, width=.8)\n",
    ")\n",
    "\n",
    "play(resynthesized, sr=8000)"
   ]
  },
  {
   "cell_type": "code",
   "execution_count": null,
   "metadata": {},
   "outputs": [],
   "source": []
  }
 ],
 "metadata": {
  "kernelspec": {
   "display_name": "Python 3 (ipykernel)",
   "language": "python",
   "name": "python3"
  },
  "language_info": {
   "codemirror_mode": {
    "name": "ipython",
    "version": 3
   },
   "file_extension": ".py",
   "mimetype": "text/x-python",
   "name": "python",
   "nbconvert_exporter": "python",
   "pygments_lexer": "ipython3",
   "version": "3.9.13"
  },
  "vscode": {
   "interpreter": {
    "hash": "f913edc96b4d7f270e90fead5d547ef2a873a2e79b92d94ed50126310cb48dfd"
   }
  }
 },
 "nbformat": 4,
 "nbformat_minor": 2
}
